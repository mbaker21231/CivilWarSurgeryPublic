{
 "cells": [
  {
   "cell_type": "markdown",
   "metadata": {},
   "source": [
    "# Data Preparation\n",
    "\n",
    "In this workbook I prepare the data for analysis. This job involves\n",
    "\n",
    "1. Developing an outcome measure - in this case, binary, as there really isn't enough information to do anything else. \n",
    "2. Developing a couple of measures of whether there was a surgical intervention, and if so, what kind (intrusive or just an amputation). \n",
    "3. Developing some other variables - dummy variables for regiment and injury location, a measure of wound severity based on the wound description, and a \"long name\" measure, along with a regimental casualties measure. \n",
    "\n",
    "First, a little bit of work to get python/Stata in the right working directory:"
   ]
  },
  {
   "cell_type": "code",
   "execution_count": 1,
   "metadata": {
    "collapsed": true
   },
   "outputs": [],
   "source": [
    "import ipystata\n",
    "import os\n",
    "\n",
    "cd = os.getcwd()\n",
    "cdl = [cd]"
   ]
  },
  {
   "cell_type": "markdown",
   "metadata": {},
   "source": [
    "Changing the working directory to the right place - it should work for anyone who has correctly cloned the git repository."
   ]
  },
  {
   "cell_type": "code",
   "execution_count": 2,
   "metadata": {
    "collapsed": false
   },
   "outputs": [
    {
     "name": "stdout",
     "output_type": "stream",
     "text": [
      "\n",
      "C:\\Users\\mjbaker\\Documents\\GitHub\\CivilWarSurgeryPublic\n",
      "\n",
      "Contains data\n",
      "  obs:           576                          \n",
      " vars:            10                          \n",
      " size:       202,752                          \n",
      "----------------------------------------------------------------------------------------------------------------------------------------------------------------------\n",
      "              storage   display    value\n",
      "variable name   type    format     label      variable label\n",
      "----------------------------------------------------------------------------------------------------------------------------------------------------------------------\n",
      "type            str20   %20s                  Type\n",
      "case            int     %10.0g                Case\n",
      "name            str11   %11s                  Name\n",
      "regno           str3    %9s                   RegNo\n",
      "regstate        str18   %18s                  RegState\n",
      "injury          str99   %99s                  Injury\n",
      "operation       str107  %107s                 Operation\n",
      "anesthetic      str12   %12s                  Anesthetic\n",
      "remarks         str79   %79s                  Remarks\n",
      "otherbattle     byte    %10.0g                OtherBattle\n",
      "----------------------------------------------------------------------------------------------------------------------------------------------------------------------\n",
      "Sorted by: \n",
      "     Note: Dataset has changed since last saved.\n",
      "\n"
     ]
    }
   ],
   "source": [
    "%%stata -s gl -i cdl \n",
    "chdir \"`cdl'\"\n",
    "\n",
    "clear all \n",
    "set more off \n",
    "\n",
    "import excel \"`cdl'\\DataFiles\\VicksburgSurgery.xlsx\", sheet(\"Sheet1\") firstrow case(lower)\n",
    "\n",
    "describe"
   ]
  },
  {
   "cell_type": "markdown",
   "metadata": {},
   "source": [
    "# Dealing with missing outcomes \n",
    "\n",
    "First, I can't use anything that doesn't report an outcome, so I drop these observations. But..\n",
    "\n",
    "\n",
    "**Note**: A referee wanted some validation that these observations could plausibly be assumed to be missing at random. We should check and see what the severity of these injuries was. "
   ]
  },
  {
   "cell_type": "code",
   "execution_count": 3,
   "metadata": {
    "collapsed": false
   },
   "outputs": [
    {
     "name": "stdout",
     "output_type": "stream",
     "text": [
      "\n",
      "(75 real changes made)\n",
      "\n",
      "(2 real changes made)\n",
      "\n",
      "(1 real change made)\n",
      "\n",
      "     misdum |      Freq.     Percent        Cum.\n",
      "------------+-----------------------------------\n",
      "          0 |        498       86.46       86.46\n",
      "          1 |         78       13.54      100.00\n",
      "------------+-----------------------------------\n",
      "      Total |        576      100.00\n",
      "\n"
     ]
    }
   ],
   "source": [
    "%%stata -s gl -os\n",
    "\n",
    "gen misdum = 0\n",
    "replace misdum = 1 if remarks == \"\" | remarks == \" \" | remarks == \"unknown\" | remarks == \"Unknown\"\n",
    "replace misdum = 1 if strpos(remarks, \"unknown\") > 0\n",
    "replace misdum = 1 if strpos(operation, \"Unknown\") > 0\n",
    "\n",
    "tab misdum"
   ]
  },
  {
   "cell_type": "markdown",
   "metadata": {},
   "source": [
    "## Making an outcome variable\n",
    "\n",
    "Now, based on the case remarks, I can posit whether the outcome was good (outcome=1) or bad (outcome=0). While I tried to push this a bit further into a categorical measure, there really isn't enough data or information to do this. \n",
    "\n",
    "Here goes:"
   ]
  },
  {
   "cell_type": "code",
   "execution_count": 4,
   "metadata": {
    "collapsed": false
   },
   "outputs": [
    {
     "name": "stdout",
     "output_type": "stream",
     "text": [
      "(502 real changes made)\n",
      "\n",
      "(575 real changes made)\n",
      "\n",
      "(576 missing values generated)\n",
      "\n",
      "(71 real changes made)\n",
      "\n",
      "(1 real change made)\n",
      "\n",
      "(7 real changes made)\n",
      "\n",
      "(56 real changes made)\n",
      "\n",
      "(10 real changes made)\n",
      "\n",
      "(4 real changes made)\n",
      "\n",
      "(290 real changes made)\n",
      "\n",
      "(1 real change made)\n",
      "\n",
      "(2 real changes made)\n",
      "\n",
      "(9 real changes made)\n",
      "\n",
      "(7 real changes made)\n",
      "\n",
      "(7 real changes made)\n",
      "\n",
      "(18 real changes made)\n",
      "\n",
      "(15 real changes made)\n",
      "\n",
      "(1 real change made)\n",
      "\n",
      "(1 real change made)\n",
      "\n",
      "(1 real change made)\n",
      "\n",
      "(1 real change made)\n",
      "\n",
      "(1 real change made)\n",
      "\n",
      "(2 real changes made)\n",
      "\n",
      "(1 real change made)\n",
      "\n",
      "(1 real change made)\n",
      "\n",
      "(3 real changes made)\n",
      "\n",
      "(1 real change made)\n",
      "\n",
      "(1 real change made)\n",
      "\n",
      "(1 real change made)\n",
      "\n",
      "(1 real change made)\n",
      "\n",
      "(1 real change made)\n",
      "\n",
      "(1 real change made)\n",
      "\n",
      "(1 real change made)\n",
      "\n",
      "(1 real change made)\n",
      "\n"
     ]
    }
   ],
   "source": [
    "%%stata -s gl \n",
    "\n",
    "replace remarks         = lower(remarks)\n",
    "replace operation       = lower(operation)\n",
    "\n",
    "gen     outcome = .\n",
    "    \n",
    "replace outcome = 0 if strpos(remarks, \"died\") > 0\n",
    "\n",
    "replace outcome = 0 if strpos(remarks, \"no improvement\") > 0 \n",
    "\n",
    "replace outcome = 0 if strpos(remarks, \"pain\") > 0 |                ///\n",
    "    strpos(remarks, \"ulcerated\") > 0 | strpos(remarks, \"fever\") > 0 ///\n",
    "    | strpos(remarks, \"cannot walk\") > 0 & outcome == .\n",
    "\n",
    "replace outcome = 1 if strpos(remarks, \"recovered\") > 0\n",
    "    \n",
    "replace outcome = 1 if strpos(remarks, \"returned to duty\") > 0 |    ///\n",
    "    strpos(remarks, \"on duty\")\n",
    "\n",
    "replace outcome = 1 if strpos(remarks, \"doing very well\") > 0\n",
    "    \n",
    "replace outcome = 1 if strpos(remarks, \"doing well\") > 0 &          ///\n",
    "    strpos(remarks, \"not\") == 0\n",
    "    \n",
    "replace outcome = 1 if strpos(remarks, \"feels well\") > 0\n",
    "    \n",
    "replace outcome = 1 if strpos(remarks, \"walks\") > 0\n",
    "    \n",
    "replace outcome = 1 if strpos(remarks, \"doing tolerably well\") > 0 | ///\n",
    "    strpos(remarks, \"tolerably well\") > 0\n",
    "    \n",
    "replace outcome = 1 if strpos(remarks, \"nearly well\") > 0\n",
    "    \n",
    "replace outcome = 1 if (strpos(remarks, \"doing better\") > 0         ///\n",
    "    | strpos(remarks, \"better\")>0) & strpos(remarks, \"not\") == 0\n",
    "    \n",
    "replace outcome=0 if strpos(remarks, \"doing badly\") > 0 |           ///\n",
    "    strpos(remarks, \"not doing well\") > 0 |                     ///\n",
    "    strpos(remarks, \"very weak\") > 0                            ///\n",
    "    | strpos(remarks, \"worse\") > 0 |                            ///\n",
    "    strpos(remarks, \"very weak\") > 0 |                          ///\n",
    "    strpos(remarks, \"swollen\") > 0 |                            ///\n",
    "    strpos(remarks, \"paralyzed\") > 0 |                           ///\n",
    "    strpos(remarks, \"doing poorly\") > 0\n",
    "    \n",
    "replace outcome=0 if strpos(remarks, \"pain\") > 0 |              ///\n",
    "    strpos(remarks, \"ulcerated\") > 0 |                          ///\n",
    "    strpos(remarks, \"fever\") > 0 |                               ///\n",
    "    strpos(remarks, \"erysipelas\") > 0 |                       ///\n",
    "    strpos(remarks, \"cannot walk\") > 0 &                        ///\n",
    "    outcome==.\n",
    "\n",
    "replace outcome=1 if strpos(remarks, \"saved\") > 0 & outcome == .\n",
    "    \n",
    "replace outcome=1 if strpos(remarks, \"doing finely\") > 0 & outcome == .\n",
    "\n",
    "replace outcome=1 if strpos(remarks, ///\n",
    "    \"had erysipelas doing better prospect good\") > 0\n",
    "\n",
    "replace outcome=1 if strpos(remarks, ///\n",
    "    \"had erysipelas, -better doing well 15th day\") > 0 \n",
    "\n",
    "replace outcome=1 if strpos(remarks, ///\n",
    "    \"had erysipelas on face, doing well 16th day\") > 0\n",
    "\n",
    "replace outcome=1 if strpos(remarks, ///\n",
    "    \"erysipelas, doing better on 17th day\") > 0\n",
    "\n",
    "replace outcome=1 if strpos(remarks, \"erysipelas, doing well 18th\") > 0\n",
    "\n",
    "replace outcome=1 if strpos(remarks, ///\n",
    "    \"had erysipelas; pusburrowed better 16th day\") > 0\n",
    "\n",
    "replace outcome=1 if strpos(remarks, \"alive\") > 0\n",
    "\n",
    "replace outcome=1 if strpos(remarks, \"wearing shoes\") > 0\n",
    "\n",
    "replace outcome=1 if strpos(remarks, \"doing passably well\") > 0\n",
    "\n",
    "replace outcome=1 if remarks == \"well on 16th day\"\n",
    "\n",
    "replace outcome=1 if strpos(remarks, \"flap sloughed\") > 0\n",
    "\n",
    "replace outcome = 0 if strpos(remarks, \"no better 16th day\") > 0\n",
    "\n",
    "replace outcome = 0 if strpos(remarks, \"very sore 16th day\") > 0\n",
    "\n",
    "replace outcome = 0 if strpos(remarks, \"tendency to gangrene\") > 0\n",
    "\n",
    "replace outcome = 0 if strpos(remarks, \"considerable swelling\") > 0"
   ]
  },
  {
   "cell_type": "code",
   "execution_count": 5,
   "metadata": {
    "collapsed": false
   },
   "outputs": [
    {
     "name": "stdout",
     "output_type": "stream",
     "text": [
      "\n",
      "    outcome |      Freq.     Percent        Cum.\n",
      "------------+-----------------------------------\n",
      "          0 |        109       21.84       21.84\n",
      "          1 |        390       78.16      100.00\n",
      "------------+-----------------------------------\n",
      "      Total |        499      100.00\n",
      "\n"
     ]
    }
   ],
   "source": [
    "%%stata -s gl\n",
    "\n",
    "tab outcome"
   ]
  },
  {
   "cell_type": "markdown",
   "metadata": {},
   "source": [
    "## Operation indicator\n",
    "\n",
    "Here, we make a dummy variable for a treatment or intervention. This measure does not distinguish about intervention type, but instead is just for whether or not some sort of surgical intervention happend. "
   ]
  },
  {
   "cell_type": "code",
   "execution_count": 6,
   "metadata": {
    "collapsed": false
   },
   "outputs": [
    {
     "name": "stdout",
     "output_type": "stream",
     "text": [
      "\n",
      "(388 real changes made)\n",
      "\n",
      "(12 real changes made)\n",
      "\n",
      "(2 real changes made)\n",
      "\n",
      "(1 real change made)\n",
      "\n"
     ]
    }
   ],
   "source": [
    "%%stata -s gl -os\n",
    "\n",
    "gen operated     = 1\n",
    "replace operated = 0 if strpos(operation, \"none\") \n",
    "replace operated = 0 if strpos(operation, \"not\")\n",
    "replace operated = 0 if strpos(operation, \"no operation\")\n",
    "replace operated = 0 if operation == \"\""
   ]
  },
  {
   "cell_type": "markdown",
   "metadata": {},
   "source": [
    "# Missing variables and the incidence of operations\n",
    "\n",
    "Tabulating the operation variable and the missing variables seems to indicate that the frequency of operation in each groups was about the same. This seems to support the contention that these observations are missing at random. "
   ]
  },
  {
   "cell_type": "code",
   "execution_count": 7,
   "metadata": {
    "collapsed": false
   },
   "outputs": [
    {
     "name": "stdout",
     "output_type": "stream",
     "text": [
      "\n",
      "           |        misdum\n",
      "  operated |         0          1 |     Total\n",
      "-----------+----------------------+----------\n",
      "         0 |       349         54 |       403 \n",
      "         1 |       149         24 |       173 \n",
      "-----------+----------------------+----------\n",
      "     Total |       498         78 |       576 \n",
      "\n"
     ]
    }
   ],
   "source": [
    "%%stata -s gl\n",
    "tab operated misdum"
   ]
  },
  {
   "cell_type": "markdown",
   "metadata": {},
   "source": [
    "# A more expansive intervention measure\n",
    "\n",
    "A referee correctly argued that a bit more could be done with the intervention measure; specifically, an amputation is very different than a procedure that involves some sort of more surgical intervention, such as a resection, excision, or bullet removal. \n",
    "\n",
    "In fact, a lot of the Civil War data makes a distinction between no treatment (conservation), amputation, and resection, so we do our best to mirror this breakdown with the following variable:"
   ]
  },
  {
   "cell_type": "code",
   "execution_count": 8,
   "metadata": {
    "collapsed": false
   },
   "outputs": [
    {
     "name": "stdout",
     "output_type": "stream",
     "text": [
      "\n",
      "(6 real changes made)\n",
      "\n",
      "(13 real changes made)\n",
      "\n",
      "(1 real change made)\n",
      "\n",
      "(9 real changes made)\n",
      "\n",
      "(34 real changes made)\n",
      "\n",
      "(2 real changes made)\n",
      "\n",
      "(1 real change made)\n",
      "\n",
      "(1 real change made)\n",
      "\n",
      "(0 real changes made)\n",
      "\n",
      "(1 real change made)\n",
      "\n",
      "(5 real changes made)\n",
      "\n",
      "(8 real changes made)\n",
      "\n",
      "(1 real change made)\n",
      "\n",
      "(1 real change made)\n",
      "\n",
      "(2 real changes made)\n",
      "\n",
      "(2 real changes made)\n",
      "\n",
      "(1 real change made)\n",
      "\n",
      "(1 real change made)\n",
      "\n",
      "(7 real changes made)\n",
      "\n",
      "(3 real changes made)\n",
      "\n",
      "(1 real change made)\n",
      "\n",
      "(1 real change made)\n",
      "\n",
      "(1 real change made)\n",
      "\n"
     ]
    }
   ],
   "source": [
    "%%stata -s gl\n",
    "\n",
    "generate expoper = operated\n",
    "replace expoper = 2 if strpos(operation, \"ball cut out\")     > 0\n",
    "replace expoper = 2 if strpos(operation, \"ball extracted\")   > 0 \n",
    "replace expoper = 2 if strpos(operation, \"ball pried loose\") > 0\n",
    "replace expoper = 2 if strpos(operation, \"cut out\")          > 0\n",
    "replace expoper = 2 if strpos(operation, \"extracted\")        > 0 \n",
    "replace expoper = 2 if strpos(operation, \"excision\")         > 0 \n",
    "replace expoper = 2 if strpos(operation, \"enlarged\")         > 0 \n",
    "replace expoper = 2 if strpos(operation, \"exsection\")        > 0 \n",
    "replace expoper = 2 if strpos(operation, \"ligation\")         > 0 \n",
    "replace expoper = 2 if strpos(operation, \"sewed up\")         > 0\n",
    "replace expoper = 2 if strpos(operation, \"resected\")         > 0\n",
    "replace expoper = 2 if strpos(operation, \"resection\")        > 0\n",
    "replace expoper = 2 if strpos(operation, \"trepanned\")        > 0\n",
    "replace expoper = 2 if strpos(operation, \"cut down and tied\") > 0\n",
    "replace expoper = 2 if strpos(operation, \"ligated\")           > 0\n",
    "replace expoper = 2 if strpos(operation, \"excised\")           > 0\n",
    "replace expoper = 2 if strpos(operation, \"artery tied\")       > 0\n",
    "replace expoper = 2 if strpos(operation, \"long splint\")       > 0\n",
    "replace expoper = 0 if strpos(operation, \"ball not extracted\") > 0\n",
    "replace expoper = 0 if strpos(operation, \"bullet not extracted\") >0\n",
    "replace expoper = 0 if strpos(operation, \"not extracted\")     > 0\n",
    "replace expoper = 2 if strpos(operation, \"tapped\")             > 0\n",
    "replace expoper = 2 if strpos(operation, \"tied the vessel\")   > 0\n"
   ]
  },
  {
   "cell_type": "markdown",
   "metadata": {},
   "source": [
    "## Categorical injury variables\n",
    "\n",
    "Of course, the location of a wound matters a lot for both the application of surgery and survival. Accordingly, we form dummy variables for wound categories: "
   ]
  },
  {
   "cell_type": "code",
   "execution_count": 9,
   "metadata": {
    "collapsed": false
   },
   "outputs": [
    {
     "name": "stdout",
     "output_type": "stream",
     "text": [
      "(576 real changes made)\n",
      "\n",
      "(575 real changes made)\n",
      "\n",
      "                Type |      Freq.     Percent        Cum.\n",
      "---------------------+-----------------------------------\n",
      "                 arm |         50        8.68        8.68\n",
      "               elbow |         14        2.43       11.11\n",
      "                foot |         45        7.81       18.92\n",
      "             forearm |         35        6.08       25.00\n",
      "                hand |         57        9.90       34.90\n",
      "                head |         39        6.77       41.67\n",
      "                 hip |         34        5.90       47.57\n",
      "                knee |         20        3.47       51.04\n",
      "                 leg |         67       11.63       62.67\n",
      "neck, trunk shoulder |        127       22.05       84.72\n",
      "               thigh |         88       15.28      100.00\n",
      "---------------------+-----------------------------------\n",
      "               Total |        576      100.00\n",
      "\n"
     ]
    }
   ],
   "source": [
    "%%stata -s gl\n",
    "\n",
    "replace type   = lower(type)\n",
    "replace injury = lower(injury)\n",
    "tab type, gen(td)"
   ]
  },
  {
   "cell_type": "markdown",
   "metadata": {},
   "source": [
    "## Checking on the missing variables\n",
    "\n",
    "Once again, the missing don't seem to be all that different in terms of wound location."
   ]
  },
  {
   "cell_type": "code",
   "execution_count": 10,
   "metadata": {
    "collapsed": false
   },
   "outputs": [
    {
     "name": "stdout",
     "output_type": "stream",
     "text": [
      "\n",
      "                     |        misdum\n",
      "                Type |         0          1 |     Total\n",
      "---------------------+----------------------+----------\n",
      "                 arm |        40         10 |        50 \n",
      "               elbow |        12          2 |        14 \n",
      "                foot |        43          2 |        45 \n",
      "             forearm |        30          5 |        35 \n",
      "                hand |        46         11 |        57 \n",
      "                head |        33          6 |        39 \n",
      "                 hip |        29          5 |        34 \n",
      "                knee |        18          2 |        20 \n",
      "                 leg |        64          3 |        67 \n",
      "neck, trunk shoulder |       101         26 |       127 \n",
      "               thigh |        82          6 |        88 \n",
      "---------------------+----------------------+----------\n",
      "               Total |       498         78 |       576 \n",
      "\n"
     ]
    }
   ],
   "source": [
    "%%stata -s gl\n",
    "tab type misdum"
   ]
  },
  {
   "cell_type": "markdown",
   "metadata": {},
   "source": [
    "## Severity of injury scale\n",
    "\n",
    "We now mine the \"injury\" category of Andrews' data, which gives us some clues as to how severe the injury was. Using words that indicate the wound was bad, we form a \"severity\" scale. In regressions, we can use a polynomial function of the severity scale so as to capture its potentially nonlinear impact on outcomes. \n",
    "\n",
    "One can look at the code to see what sorts of things lead to a wound being considered more severe. Also, the very last line of code below generates a squared term so severity can be included in empirical work as a quadratic."
   ]
  },
  {
   "cell_type": "code",
   "execution_count": 11,
   "metadata": {
    "collapsed": false
   },
   "outputs": [
    {
     "name": "stdout",
     "output_type": "stream",
     "text": [
      "\n",
      "(3 real changes made)\n",
      "\n",
      "(25 real changes made)\n",
      "\n",
      "(117 real changes made)\n",
      "\n",
      "(138 real changes made)\n",
      "\n",
      "(1 real change made)\n",
      "\n",
      "(10 real changes made)\n",
      "\n",
      "(15 real changes made)\n",
      "\n",
      "(1 real change made)\n",
      "\n",
      "(6 real changes made)\n",
      "\n",
      "(1 real change made)\n",
      "\n",
      "(4 real changes made)\n",
      "\n",
      "(17 real changes made)\n",
      "\n",
      "(3 real changes made)\n",
      "\n",
      "(3 real changes made)\n",
      "\n",
      "(8 real changes made)\n",
      "\n",
      "(225 real changes made)\n",
      "\n",
      "(28 real changes made)\n",
      "\n",
      "    Variable |        Obs        Mean    Std. Dev.       Min        Max\n",
      "-------------+---------------------------------------------------------\n",
      "         sev |        576    .1354167    1.189401         -3          3\n",
      "\n",
      "(576 real changes made)\n",
      "\n",
      "    Variable |        Obs        Mean    Std. Dev.       Min        Max\n",
      "-------------+---------------------------------------------------------\n",
      "         sev |        576    3.135417    1.189401          0          6\n",
      "\n",
      "(574 real changes made)\n",
      "\n"
     ]
    }
   ],
   "source": [
    "%%stata -s gl\n",
    "gen sev = 0\n",
    "\n",
    "replace sev = sev + 2 if strpos(injury, \"severe\")       > 0\n",
    "replace sev = sev + 1 if strpos(injury, \"entered\")      > 0\n",
    "replace sev = sev + 1 if strpos(injury, \"compound\")     > 0\n",
    "replace sev = sev + 1 if strpos(injury, \"fracture\")     > 0\n",
    "replace sev = sev + 1 if strpos(injury, \"shattered\")    > 0\n",
    "replace sev = sev + 1 if strpos(injury, \"penetrat\")     > 0\n",
    "replace sev = sev + 1 if strpos(injury, \"lung\")         > 0\n",
    "replace sev = sev + 1 if strpos(injury, \"spine\")        > 0\n",
    "replace sev = sev + 1 if strpos(injury, \"bad\")          > 0\n",
    "replace sev = sev + 1 if strpos(injury, \"taken off\")    > 0\n",
    "replace sev = sev + 1 if strpos(injury, \"torn off\")     > 0\n",
    "replace sev = sev + 1 if strpos(injury, \"both\")         > 0\n",
    "replace sev = sev + 1 if strpos(injury, \"opened\")       > 0\n",
    "replace sev = sev + 1 if strpos(injury, \"cranium\")      > 0\n",
    "\n",
    "replace sev = sev - 2 if strpos(injury, \"slight\") > 0\n",
    "replace sev = sev - 1 if strpos(injury, \"flesh\")  > 0\n",
    "replace sev = sev - 1 if strpos(injury, \"finger\") > 0\n",
    "\n",
    "sum sev\n",
    "scalar minsev = r(min)\n",
    "replace sev = sev - minsev\n",
    "sum sev\n",
    "scalar maxsev = r(max)\n",
    "replace sev = sev / maxsev\n",
    "\n",
    "gen sev2 = sev*sev"
   ]
  },
  {
   "cell_type": "markdown",
   "metadata": {},
   "source": [
    "## Final missing check\n",
    "\n",
    "As a last thing to check, let's just see if the missing observations tend to be more severe. It appears that they arent."
   ]
  },
  {
   "cell_type": "code",
   "execution_count": 12,
   "metadata": {
    "collapsed": false
   },
   "outputs": [
    {
     "name": "stdout",
     "output_type": "stream",
     "text": [
      "\n",
      "    Variable |        Obs        Mean    Std. Dev.       Min        Max\n",
      "-------------+---------------------------------------------------------\n",
      "         sev |        576    .5225694    .1982334          0          1\n",
      "        sev2 |        576    .3123071    .2288797          0          1\n",
      "\n",
      "    Variable |        Obs        Mean    Std. Dev.       Min        Max\n",
      "-------------+---------------------------------------------------------\n",
      "         sev |         78    .5576923    .2060186   .1666667          1\n",
      "\n",
      "    Variable |        Obs        Mean    Std. Dev.       Min        Max\n",
      "-------------+---------------------------------------------------------\n",
      "         sev |        498    .5170683    .1966317          0          1\n",
      "\n"
     ]
    }
   ],
   "source": [
    "%%stata -s gl\n",
    "\n",
    "sum sev sev2\n",
    "\n",
    "sum sev if misdum\n",
    "sum sev if misdum == 0"
   ]
  },
  {
   "cell_type": "markdown",
   "metadata": {},
   "source": [
    "## Dummies for common regiments\n",
    "\n",
    "Many of the injuries come from a fixed amount of regiments. Because the regiment determined position on the battlefield, and possibly the distance of the regiment from the battlefield, etc. I should control for the regiment in both the surgical decision and in outcomes. "
   ]
  },
  {
   "cell_type": "code",
   "execution_count": 13,
   "metadata": {
    "collapsed": false
   },
   "outputs": [
    {
     "name": "stdout",
     "output_type": "stream",
     "text": [
      "\n",
      "\n"
     ]
    }
   ],
   "source": [
    "%%stata -s gl\n",
    "\n",
    "gen Ky22  = (regstate == \"Kentucky\" & regno == \"22\")\n",
    "gen Oh16  = (regstate == \"Ohio\"     & regno == \"16\")\n",
    "gen In54  = (regstate == \"Indiana\"  & regno == \"54\")\n",
    "gen Oh42  = (regstate == \"Ohio\"     & regno == \"42\")\n",
    "gen Ia04  = (regstate == \"Iowa\"     & regno == \"4\")\n",
    "gen Il13  = (regstate == \"Illinois\" & regno == \"13\")\n",
    "gen Mo29  = (regstate == \"Missouri\" & regno == \"29\")\n",
    "gen In49  = (regstate == \"Indiana\"  & regno == \"49\")\n",
    "gen Mo06  = (regstate == \"Missouri\" & regno == \"6\")\n",
    "gen Oh114 = (regstate == \"Ohio\"     & regno == \"114\")\n",
    "gen Mo31  = (regstate == \"Missouri\" & regno == \"31\")\n",
    "gen Oh58  = (regstate == \"Ohio\"     & regno == \"58\")"
   ]
  },
  {
   "cell_type": "markdown",
   "metadata": {},
   "source": [
    "# Marker for long names\n",
    "\n",
    "In an attempt to make use of all possible information in the data, I also use the data on initials. In particular, we note whether or not a soldier has a middle initial. As argued in the paper, this may be correlated (albeit weakly) with social status, and a potential to argue about surgery/amputation. "
   ]
  },
  {
   "cell_type": "code",
   "execution_count": 14,
   "metadata": {
    "collapsed": false
   },
   "outputs": [
    {
     "name": "stdout",
     "output_type": "stream",
     "text": [
      "(173 real changes made)\n",
      "\n",
      "(565 real changes made)\n",
      "\n",
      "(565 real changes made)\n",
      "\n",
      "(14 real changes made)\n",
      "\n"
     ]
    }
   ],
   "source": [
    "%%stata -s gl\n",
    "\n",
    "replace name = trim(name)\n",
    "replace name = subinstr(name, \".\", \"\", .)\n",
    "replace name = subinstr(name, \" \", \"\", .)\n",
    "replace name = subinstr(name, \"Mc\", \"\",.)\n",
    "\n",
    "gen namelength = length(name)\n",
    "gen longname   = namelength > 2\n"
   ]
  },
  {
   "cell_type": "markdown",
   "metadata": {},
   "source": [
    "## Casualty count by regiment\n",
    "\n",
    "In the paper, I argue that the frequency with which a regiment occurs in the data could proxy a triage effect, so that a large casaulty count might mean that a wounded soldier, other things equal, should be less likely to get surgery. We use the log of the variable to partially normalize the coefficient. So:"
   ]
  },
  {
   "cell_type": "code",
   "execution_count": 15,
   "metadata": {
    "collapsed": false
   },
   "outputs": [
    {
     "name": "stdout",
     "output_type": "stream",
     "text": [
      "\n",
      "\n"
     ]
    }
   ],
   "source": [
    "%%stata -s gl\n",
    "\n",
    "bysort regstate regno: egen casualties = count(regstate)\n",
    "gen lncas = ln(casualties + 1)"
   ]
  },
  {
   "cell_type": "markdown",
   "metadata": {},
   "source": [
    "## Relabeling and saving variables\n",
    "\n",
    "Finally, saving the data set, after dropping missing observations."
   ]
  },
  {
   "cell_type": "code",
   "execution_count": 16,
   "metadata": {
    "collapsed": false
   },
   "outputs": [
    {
     "name": "stdout",
     "output_type": "stream",
     "text": [
      "(78 observations deleted)\n",
      "\n",
      "file C:\\Users\\mjbaker\\Documents\\GitHub\\CivilWarSurgeryPublic\\Datafiles\\WorkingData.dta saved\n",
      "\n"
     ]
    }
   ],
   "source": [
    "%%stata -s gl\n",
    "\n",
    "drop if misdum\n",
    "\n",
    "label var sev           \"severity\"\n",
    "label var sev2          \"severity squared\"\n",
    "label var lncas         \"ln(reg. cases)\"\n",
    "label var longname      \">2 initials\"\n",
    "label var operated      \"Surgery\"\n",
    "label var Ky22          \"22nd Kentucky\"\n",
    "label var Oh16          \"16th Ohio\"\n",
    "label var In54          \"54th Indiana\"\n",
    "label var Oh42          \"42nd Ohio\"\n",
    "label var Ia04          \"4th Iowa\"\n",
    "label var Il13          \"13th Illinois\"\n",
    "label var Mo29          \"29th Missouri\"\n",
    "\n",
    "save \"`cdl'\\Datafiles\\WorkingData.dta\", replace"
   ]
  },
  {
   "cell_type": "markdown",
   "metadata": {
    "collapsed": true
   },
   "source": [
    "The data should be ready for use in the form that it was applied in in the paper at this point!"
   ]
  },
  {
   "cell_type": "code",
   "execution_count": null,
   "metadata": {
    "collapsed": true
   },
   "outputs": [],
   "source": []
  }
 ],
 "metadata": {
  "kernelspec": {
   "display_name": "Python 3",
   "language": "python",
   "name": "python3"
  },
  "language_info": {
   "codemirror_mode": {
    "name": "ipython",
    "version": 3
   },
   "file_extension": ".py",
   "mimetype": "text/x-python",
   "name": "python",
   "nbconvert_exporter": "python",
   "pygments_lexer": "ipython3",
   "version": "3.4.5"
  }
 },
 "nbformat": 4,
 "nbformat_minor": 2
}
